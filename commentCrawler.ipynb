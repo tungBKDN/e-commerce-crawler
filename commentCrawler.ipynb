{
 "cells": [
  {
   "cell_type": "code",
   "execution_count": 1,
   "id": "9ab4b052",
   "metadata": {},
   "outputs": [],
   "source": [
    "from selenium import webdriver\n",
    "from selenium.webdriver.common.by import By\n",
    "import config\n",
    "import helper"
   ]
  },
  {
   "cell_type": "code",
   "execution_count": 2,
   "id": "f217dd37",
   "metadata": {},
   "outputs": [
    {
     "name": "stdout",
     "output_type": "stream",
     "text": [
      "Loaded 112 hrefs from ./data/hrefs.txt.\n",
      "Current product: 0\n",
      "Current hrefs: https://www.youtube.com/watch?v=b4Q5JPwOq7E&pp=ygUidGluIHThu6ljIHZ1aSB24bq7IHRyxrDhu51uZyBo4buNYw%3D%3D\n"
     ]
    }
   ],
   "source": [
    "# Get states\n",
    "current_product = helper.get_current_product()\n",
    "hrefs = helper.get_hrefs()\n",
    "\n",
    "print(f\"Current product: {current_product}\")\n",
    "print(f\"Current hrefs: {hrefs[current_product]}\")"
   ]
  },
  {
   "cell_type": "code",
   "execution_count": 6,
   "id": "e3b7370b",
   "metadata": {},
   "outputs": [],
   "source": [
    "\n",
    "def check_comment_crawlable(driver):\n",
    "    \"\"\"\n",
    "    Returns False if the video has 'Comments are turned off.' message.\n",
    "    Returns True if comment section is likely available.\n",
    "    \"\"\"\n",
    "    try:\n",
    "        # This XPath matches the span with the exact text\n",
    "        driver.find_element(\n",
    "            By.XPATH,\n",
    "            \"//span[contains(@class, 'style-scope') and contains(@class, 'yt-formatted-string') and normalize-space(text())='Comments are turned off.']\"\n",
    "        )\n",
    "        # If found, comments are turned off\n",
    "        return False\n",
    "    except Exception as e:\n",
    "        # If not found, comments are likely available\n",
    "        return True"
   ]
  },
  {
   "cell_type": "code",
   "execution_count": 10,
   "id": "4e5ff6c4",
   "metadata": {},
   "outputs": [
    {
     "name": "stdout",
     "output_type": "stream",
     "text": [
      "Comments are crawlable.\n"
     ]
    }
   ],
   "source": [
    "# Initialize the WebDriver\n",
    "driver = webdriver.Firefox()  # Ensure you have the ChromeDriver installed and in PATH\n",
    "\n",
    "# Open the specified URL\n",
    "driver.get(hrefs[current_product + 2])\n",
    "\n",
    "# Wait for the page to load completely (optional, depending on the page)\n",
    "driver.implicitly_wait(10)\n",
    "\n",
    "# Check if the comments are crawlable\n",
    "try:\n",
    "    # Find the comments section\n",
    "    crawlable = check_comment_crawlable(driver)\n",
    "\n",
    "    if crawlable:\n",
    "        print(\"Comments are crawlable.\")\n",
    "    else:\n",
    "        print(\"Comments are NOT crawlable.\")\n",
    "except Exception as e:\n",
    "    print(f\"An error occurred: {e}\")"
   ]
  }
 ],
 "metadata": {
  "kernelspec": {
   "display_name": "Python 3",
   "language": "python",
   "name": "python3"
  },
  "language_info": {
   "codemirror_mode": {
    "name": "ipython",
    "version": 3
   },
   "file_extension": ".py",
   "mimetype": "text/x-python",
   "name": "python",
   "nbconvert_exporter": "python",
   "pygments_lexer": "ipython3",
   "version": "3.11.8"
  }
 },
 "nbformat": 4,
 "nbformat_minor": 5
}
