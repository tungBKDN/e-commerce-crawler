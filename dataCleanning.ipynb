{
 "cells": [
  {
   "cell_type": "code",
   "execution_count": 8,
   "id": "ed73d28d",
   "metadata": {},
   "outputs": [],
   "source": [
    "import pandas as pd\n",
    "import helper\n",
    "import re\n",
    "import html\n",
    "import matplotlib.pyplot as plt"
   ]
  },
  {
   "cell_type": "code",
   "execution_count": 5,
   "id": "f7d2bc4a",
   "metadata": {},
   "outputs": [
    {
     "data": {
      "application/vnd.microsoft.datawrangler.viewer.v0+json": {
       "columns": [
        {
         "name": "index",
         "rawType": "int64",
         "type": "integer"
        },
        {
         "name": "emotion",
         "rawType": "object",
         "type": "string"
        },
        {
         "name": "video_id",
         "rawType": "object",
         "type": "string"
        },
        {
         "name": "author",
         "rawType": "object",
         "type": "string"
        },
        {
         "name": "comment",
         "rawType": "object",
         "type": "string"
        }
       ],
       "conversionMethod": "pd.DataFrame",
       "ref": "0ef17e57-b4ea-44b3-91e9-bbbca49ad19e",
       "rows": [
        [
         "0",
         "vui vẻ",
         "_pMLRYGx9Is",
         "@ottux2707",
         "Ai đó rì viu DHHP cho em vớiii"
        ],
        [
         "1",
         "vui vẻ",
         "_pMLRYGx9Is",
         "@minhchau3090",
         "Tính cả mình thì khóa mình có 5 người trong Bộ Tài chính 😂"
        ],
        [
         "2",
         "vui vẻ",
         "_pMLRYGx9Is",
         "@yennhile8168",
         "Ê em là 2k8 lo xa đag tìm trường đhoc:)) e xem video a em bcuoi v"
        ],
        [
         "3",
         "vui vẻ",
         "_pMLRYGx9Is",
         "@tuantruong2080",
         "anh làm p2 cho 2k7 đc ko"
        ],
        [
         "4",
         "vui vẻ",
         "_pMLRYGx9Is",
         "@johnnyphim5572",
         "FTU giỏi lắm đó"
        ]
       ],
       "shape": {
        "columns": 4,
        "rows": 5
       }
      },
      "text/html": [
       "<div>\n",
       "<style scoped>\n",
       "    .dataframe tbody tr th:only-of-type {\n",
       "        vertical-align: middle;\n",
       "    }\n",
       "\n",
       "    .dataframe tbody tr th {\n",
       "        vertical-align: top;\n",
       "    }\n",
       "\n",
       "    .dataframe thead th {\n",
       "        text-align: right;\n",
       "    }\n",
       "</style>\n",
       "<table border=\"1\" class=\"dataframe\">\n",
       "  <thead>\n",
       "    <tr style=\"text-align: right;\">\n",
       "      <th></th>\n",
       "      <th>emotion</th>\n",
       "      <th>video_id</th>\n",
       "      <th>author</th>\n",
       "      <th>comment</th>\n",
       "    </tr>\n",
       "  </thead>\n",
       "  <tbody>\n",
       "    <tr>\n",
       "      <th>0</th>\n",
       "      <td>vui vẻ</td>\n",
       "      <td>_pMLRYGx9Is</td>\n",
       "      <td>@ottux2707</td>\n",
       "      <td>Ai đó rì viu DHHP cho em vớiii</td>\n",
       "    </tr>\n",
       "    <tr>\n",
       "      <th>1</th>\n",
       "      <td>vui vẻ</td>\n",
       "      <td>_pMLRYGx9Is</td>\n",
       "      <td>@minhchau3090</td>\n",
       "      <td>Tính cả mình thì khóa mình có 5 người trong Bộ...</td>\n",
       "    </tr>\n",
       "    <tr>\n",
       "      <th>2</th>\n",
       "      <td>vui vẻ</td>\n",
       "      <td>_pMLRYGx9Is</td>\n",
       "      <td>@yennhile8168</td>\n",
       "      <td>Ê em là 2k8 lo xa đag tìm trường đhoc:)) e xem...</td>\n",
       "    </tr>\n",
       "    <tr>\n",
       "      <th>3</th>\n",
       "      <td>vui vẻ</td>\n",
       "      <td>_pMLRYGx9Is</td>\n",
       "      <td>@tuantruong2080</td>\n",
       "      <td>anh làm p2 cho 2k7 đc ko</td>\n",
       "    </tr>\n",
       "    <tr>\n",
       "      <th>4</th>\n",
       "      <td>vui vẻ</td>\n",
       "      <td>_pMLRYGx9Is</td>\n",
       "      <td>@johnnyphim5572</td>\n",
       "      <td>FTU giỏi lắm đó</td>\n",
       "    </tr>\n",
       "  </tbody>\n",
       "</table>\n",
       "</div>"
      ],
      "text/plain": [
       "  emotion     video_id           author  \\\n",
       "0  vui vẻ  _pMLRYGx9Is       @ottux2707   \n",
       "1  vui vẻ  _pMLRYGx9Is    @minhchau3090   \n",
       "2  vui vẻ  _pMLRYGx9Is    @yennhile8168   \n",
       "3  vui vẻ  _pMLRYGx9Is  @tuantruong2080   \n",
       "4  vui vẻ  _pMLRYGx9Is  @johnnyphim5572   \n",
       "\n",
       "                                             comment  \n",
       "0                     Ai đó rì viu DHHP cho em vớiii  \n",
       "1  Tính cả mình thì khóa mình có 5 người trong Bộ...  \n",
       "2  Ê em là 2k8 lo xa đag tìm trường đhoc:)) e xem...  \n",
       "3                           anh làm p2 cho 2k7 đc ko  \n",
       "4                                    FTU giỏi lắm đó  "
      ]
     },
     "execution_count": 5,
     "metadata": {},
     "output_type": "execute_result"
    }
   ],
   "source": [
    "df = pd.read_csv('./data/comments.csv')\n",
    "df.head()"
   ]
  },
  {
   "cell_type": "code",
   "execution_count": 3,
   "id": "4807d002",
   "metadata": {},
   "outputs": [],
   "source": [
    "def clean_comment(text: str):\n",
    "    if not isinstance(text, str):\n",
    "        return \"\"\n",
    "    text = html.unescape(text)  # Decode HTML entities\n",
    "    text = re.sub(r\"<.*?>\", \"\", text)  # Xoá HTML tags\n",
    "    text = re.sub(r\"http\\S+|www\\S+|https\\S+\", \"\", text)  # Xoá URL\n",
    "    text = re.sub(r\"@\\w+\", \"\", text)  # Xoá @user\n",
    "    text = re.sub(r\"[^\\w\\sàáảãạâấầẩẫậăắằẳẵặèéẻẽẹêếềểễệìíỉĩịòóỏõọôốồổỗộơớờởỡợùúủũụưứừửữựỳýỷỹỵđA-Z]\", \" \", text, flags=re.UNICODE)\n",
    "    text = re.sub(r\"\\s+\", \" \", text).strip()\n",
    "    return text.lower()\n",
    "\n",
    "\n",
    "def filter_comments(df: pd.DataFrame, min_length: int = 5) -> pd.DataFrame:\n",
    "    \"\"\"\n",
    "    Filter out comments that are not bring any value\n",
    "    \"\"\"\n",
    "    df = df[df[\"clean_comment\"].str.len() > min_length]\n",
    "    df = df.dropna(subset=[\"clean_comment\"])\n",
    "    df = df[df[\"clean_comment\"].str.strip() != \"\"]\n",
    "    return df"
   ]
  },
  {
   "cell_type": "code",
   "execution_count": 7,
   "id": "7e2f08ee",
   "metadata": {},
   "outputs": [
    {
     "name": "stdout",
     "output_type": "stream",
     "text": [
      "Removed 0 comments\n"
     ]
    }
   ],
   "source": [
    "# Main\n",
    "bef_length = len(df)\n",
    "df[\"clean_comment\"] = df[\"comment\"].apply(clean_comment)\n",
    "df = filter_comments(df)\n",
    "aft_length = len(df)\n",
    "print(f\"Removed {bef_length - aft_length} comments\")\n",
    "df = df.reset_index(drop=True)\n",
    "df = df.drop(columns=[\"comment\"])\n",
    "df = df.rename(columns={\"clean_comment\": \"comment\"})\n",
    "df.to_csv(\"./data/clean_comments.csv\", index=False)"
   ]
  },
  {
   "cell_type": "code",
   "execution_count": 10,
   "id": "c325abed",
   "metadata": {},
   "outputs": [
    {
     "data": {
      "image/png": "[encoded data removed]",
      "text/plain": [
       "<Figure size 640x480 with 1 Axes>"
      ]
     },
     "metadata": {},
     "output_type": "display_data"
    }
   ],
   "source": [
    "# Plot distribution by emotion\n",
    "def plot_distribution(df: pd.DataFrame):\n",
    "    df[\"emotion\"].value_counts().plot(kind=\"bar\")\n",
    "    plt.title(\"Distribution of Emotions\")\n",
    "    plt.xlabel(\"Emotion\")\n",
    "    plt.ylabel(\"Count\")\n",
    "    plt.xticks(rotation=45)\n",
    "    plt.tight_layout()\n",
    "    plt.savefig(\"./data/emotion_distribution.png\")\n",
    "    plt.show()\n",
    "\n",
    "plot_distribution(df)"
   ]
  }
 ],
 "metadata": {
  "kernelspec": {
   "display_name": "Python 3",
   "language": "python",
   "name": "python3"
  },
  "language_info": {
   "codemirror_mode": {
    "name": "ipython",
    "version": 3
   },
   "file_extension": ".py",
   "mimetype": "text/x-python",
   "name": "python",
   "nbconvert_exporter": "python",
   "pygments_lexer": "ipython3",
   "version": "3.11.8"
  }
 },
 "nbformat": 4,
 "nbformat_minor": 5
}
